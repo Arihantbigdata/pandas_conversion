{
 "cells": [
  {
   "cell_type": "code",
   "execution_count": 51,
   "metadata": {},
   "outputs": [],
   "source": [
    "from moz_sql_parser import parse\n",
    "import re"
   ]
  },
  {
   "cell_type": "code",
   "execution_count": 63,
   "metadata": {},
   "outputs": [],
   "source": [
    "query =\"ALTER TABLE Cal_pd DROP COLUMN MARAVAIL ,  MARSOLD ,  MARREV ,  MARAVAILLY ,  MARSOLDLY ,  MARREVLY ,  MKTAVAIL ,  MKTSOLD ,  MKTREV ,  MKTAVAILLY ,  MKTSOLDLY ,  MKTREVLY ;\"\n",
    "query = query.lower()"
   ]
  },
  {
   "cell_type": "code",
   "execution_count": 64,
   "metadata": {},
   "outputs": [
    {
     "name": "stdout",
     "output_type": "stream",
     "text": [
      "cal_pd.drop(columns=['maravail', 'marsold', 'marrev', 'maravailly', 'marsoldly', 'marrevly', 'mktavail', 'mktsold', 'mktrev', 'mktavailly', 'mktsoldly', 'mktrevly'])\n"
     ]
    }
   ],
   "source": [
    "if query.startswith(\"alter\"):\n",
    "    if \"drop\" in query:\n",
    "        # finding the table name:\n",
    "        start_table = 'table'\n",
    "        end_table = 'drop'\n",
    "        table_name= query[query.find(start_table)+len(start_table):query.rfind(end_table)].strip()\n",
    "        \n",
    "        #finding the columns\n",
    "        start_col = 'column'\n",
    "        end_col = ';'\n",
    "        drop_columns_list= query[query.find(start_col)+len(start_col):query.rfind(end_col)].strip().split(\",\")\n",
    "        clean_drop_col_list=[i.strip() for i in drop_columns_list]\n",
    "        if \".\" in table_name:\n",
    "            table_name=table_name.split(\".\")[-1]\n",
    "        else:\n",
    "            table_name=table_name\n",
    "        final_alter_df= table_name+\".drop(columns=\"+str(clean_drop_col_list)+\")\"\n",
    "        print(final_alter_df)\n",
    "        \n",
    "    else:\n",
    "        pass\n",
    "else:\n",
    "    pass\n",
    "        \n",
    "        \n",
    "        \n",
    "        "
   ]
  },
  {
   "cell_type": "code",
   "execution_count": 65,
   "metadata": {},
   "outputs": [],
   "source": [
    "def alter_handler(query):\n",
    "    if query.startswith(\"alter\"):\n",
    "        if \"drop\" in query:\n",
    "            # finding the table name:\n",
    "            start_table = 'table'\n",
    "            end_table = 'drop'\n",
    "            table_name= query[query.find(start_table)+len(start_table):query.rfind(end_table)].strip()\n",
    "        \n",
    "            #finding the columns\n",
    "            start_col = 'column'\n",
    "            end_col = ';'\n",
    "            drop_columns_list= query[query.find(start_col)+len(start_col):query.rfind(end_col)].strip().split(\",\")\n",
    "            clean_drop_col_list=[i.strip() for i in drop_columns_list]\n",
    "            if \".\" in table_name:\n",
    "                table_name=table_name.split(\".\")[-1]\n",
    "            else:\n",
    "                table_name=table_name\n",
    "            final_alter_df= table_name+\".drop(columns=\"+str(clean_drop_col_list)+\")\"\n",
    "            return final_alter_df\n",
    "        \n",
    "        else:\n",
    "            pass\n",
    "    else:\n",
    "        pass"
   ]
  },
  {
   "cell_type": "code",
   "execution_count": 67,
   "metadata": {},
   "outputs": [
    {
     "data": {
      "text/plain": [
       "\"cal_pd.drop(columns=['maravail', 'marsold', 'marrev', 'maravailly', 'marsoldly', 'marrevly', 'mktavail', 'mktsold', 'mktrev', 'mktavailly', 'mktsoldly', 'mktrevly'])\""
      ]
     },
     "execution_count": 67,
     "metadata": {},
     "output_type": "execute_result"
    }
   ],
   "source": [
    "alter_handler(query)"
   ]
  },
  {
   "cell_type": "code",
   "execution_count": 66,
   "metadata": {},
   "outputs": [],
   "source": [
    "#reference\n",
    "# df.drop(columns=[\"day\",\"city\"])"
   ]
  },
  {
   "cell_type": "code",
   "execution_count": null,
   "metadata": {},
   "outputs": [],
   "source": []
  }
 ],
 "metadata": {
  "kernelspec": {
   "display_name": "Python 3",
   "language": "python",
   "name": "python3"
  },
  "language_info": {
   "codemirror_mode": {
    "name": "ipython",
    "version": 3
   },
   "file_extension": ".py",
   "mimetype": "text/x-python",
   "name": "python",
   "nbconvert_exporter": "python",
   "pygments_lexer": "ipython3",
   "version": "3.7.4"
  }
 },
 "nbformat": 4,
 "nbformat_minor": 2
}
