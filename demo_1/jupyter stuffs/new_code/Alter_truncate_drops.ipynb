{
 "cells": [
  {
   "cell_type": "code",
   "execution_count": 51,
   "metadata": {},
   "outputs": [],
   "source": [
    "from moz_sql_parser import parse\n",
    "import re"
   ]
  },
  {
   "cell_type": "code",
   "execution_count": 82,
   "metadata": {},
   "outputs": [],
   "source": [
    "query =\"ALTER    TABLE Cal_pd DROP COLUMN MARAVAIL ,  MARSOLD ,  MARREV ,  MARAVAILLY ,  MARSOLDLY ,  MARREVLY ,  MKTAVAIL ,  MKTSOLD ,  MKTREV ,  MKTAVAILLY ,  MKTSOLDLY ,  MKTREVLY ;\"\n",
    "query = query.lower()\n",
    "\n"
   ]
  },
  {
   "cell_type": "markdown",
   "metadata": {},
   "source": [
    "## Alter\n"
   ]
  },
  {
   "cell_type": "code",
   "execution_count": 68,
   "metadata": {},
   "outputs": [],
   "source": [
    "def alter_handler(query):\n",
    "    if query.startswith(\"alter\"):\n",
    "        if \"drop\" in query:\n",
    "            # finding the table name:\n",
    "            start_table = 'table'\n",
    "            end_table = 'drop'\n",
    "            table_name= query[query.find(start_table)+len(start_table):query.rfind(end_table)].strip()\n",
    "        \n",
    "            #finding the columns\n",
    "            start_col = 'column'\n",
    "            end_col = ';'\n",
    "            drop_columns_list= query[query.find(start_col)+len(start_col):query.rfind(end_col)].strip().split(\",\")\n",
    "            clean_drop_col_list=[i.strip() for i in drop_columns_list]\n",
    "            if \".\" in table_name:\n",
    "                table_name=table_name.split(\".\")[-1]\n",
    "            else:\n",
    "                table_name=table_name\n",
    "            final_alter_df= table_name+\".drop(columns=\"+str(clean_drop_col_list)+\")\"\n",
    "            return final_alter_df\n",
    "        \n",
    "        else:\n",
    "            pass\n",
    "    else:\n",
    "        pass"
   ]
  },
  {
   "cell_type": "code",
   "execution_count": 69,
   "metadata": {},
   "outputs": [
    {
     "data": {
      "text/plain": [
       "\"cal_pd.drop(columns=['maravail', 'marsold', 'marrev', 'maravailly', 'marsoldly', 'marrevly', 'mktavail', 'mktsold', 'mktrev', 'mktavailly', 'mktsoldly', 'mktrevly'])\""
      ]
     },
     "execution_count": 69,
     "metadata": {},
     "output_type": "execute_result"
    }
   ],
   "source": [
    "alter_handler(query)"
   ]
  },
  {
   "cell_type": "markdown",
   "metadata": {},
   "source": [
    "## Truncate"
   ]
  },
  {
   "cell_type": "code",
   "execution_count": 74,
   "metadata": {},
   "outputs": [],
   "source": [
    "def truncate_table(query):\n",
    "    if query.startswith(\"truncate\"):\n",
    "        start_table = 'table'\n",
    "        end_table = ')'\n",
    "        table_name= query[query.find(start_table)+len(start_table):query.rfind(end_table)].strip()\n",
    "        if \".\" in table_name:\n",
    "            table_name=table_name.split(\".\")[-1]\n",
    "        else:\n",
    "            table_name=table_name\n",
    "        final_df= table_name+\"=\"+table_name+\".truncate(before=-1, after=-1)\"\n",
    "        return final_df\n",
    "    else:\n",
    "        pass"
   ]
  },
  {
   "cell_type": "code",
   "execution_count": 77,
   "metadata": {},
   "outputs": [
    {
     "data": {
      "text/plain": [
       "'ap_combined_misw_&curyr=ap_combined_misw_&curyr.truncate(before=-1, after=-1)'"
      ]
     },
     "execution_count": 77,
     "metadata": {},
     "output_type": "execute_result"
    }
   ],
   "source": [
    "query = \"TRUNCATE Table AW_SLS_PRD_AM.AP_COMBINED_MISW_&CURYR ) by odbc ;\"\n",
    "query = query.lower()\n",
    "truncate_table(query)"
   ]
  },
  {
   "cell_type": "code",
   "execution_count": null,
   "metadata": {},
   "outputs": [],
   "source": []
  },
  {
   "cell_type": "code",
   "execution_count": 66,
   "metadata": {},
   "outputs": [],
   "source": [
    "#reference\n",
    "# df.drop(columns=[\"day\",\"city\"])\n",
    "\n",
    "# df=df.truncate(before=-1, after=-1)\n",
    "\n",
    "# if query.startswith(\"alter\"):\n",
    "#     if \"drop\" in query:\n",
    "#         # finding the table name:\n",
    "#         start_table = 'table'\n",
    "#         end_table = 'drop'\n",
    "#         table_name= query[query.find(start_table)+len(start_table):query.rfind(end_table)].strip()\n",
    "        \n",
    "#         #finding the columns\n",
    "#         start_col = 'column'\n",
    "#         end_col = ';'\n",
    "#         drop_columns_list= query[query.find(start_col)+len(start_col):query.rfind(end_col)].strip().split(\",\")\n",
    "#         clean_drop_col_list=[i.strip() for i in drop_columns_list]\n",
    "#         if \".\" in table_name:\n",
    "#             table_name=table_name.split(\".\")[-1]\n",
    "#         else:\n",
    "#             table_name=table_name\n",
    "#         final_alter_df= table_name+\".drop(columns=\"+str(clean_drop_col_list)+\")\"\n",
    "#         print(final_alter_df)\n",
    "        \n",
    "#     else:\n",
    "#         pass\n",
    "# else:\n",
    "#     pass\n",
    "        \n",
    "        \n",
    "# query = \"TRUNCATE Table AW_SLS_PRD_AM.AP_COMBINED_MISW_&CURYR ) by odbc ;\"\n",
    "# query = query.lower()\n",
    "# if query.startswith(\"truncate\"):\n",
    "#     start_table = 'table'\n",
    "#     end_table = ')'\n",
    "#     table_name= query[query.find(start_table)+len(start_table):query.rfind(end_table)].strip()\n",
    "#     if \".\" in table_name:\n",
    "#         table_name=table_name.split(\".\")[-1]\n",
    "#     else:\n",
    "#         table_name=table_name\n",
    "#     table_name= table_name+\".truncate(before=-1, after=-1)\"\n",
    "#     print(table_name)\n",
    "# else:\n",
    "#     pass\n",
    "        "
   ]
  },
  {
   "cell_type": "code",
   "execution_count": 170,
   "metadata": {},
   "outputs": [],
   "source": [
    "query =\"\"\" SELECT \n",
    " ACTUALS*-1 AS ACTUALS ,\n",
    " BUDGET*-1 AS BUDGET , \n",
    " SUBSTRING( _NAME_,2,2 ) AS name , \n",
    " CAST( name,int) AS monno \n",
    " FROM SLCT_SRVC_CATERING_TRANS  \n",
    " WHERE ACTUALS<>0 AND BUDGET<>0\"\"\""
   ]
  },
  {
   "cell_type": "code",
   "execution_count": 171,
   "metadata": {},
   "outputs": [
    {
     "data": {
      "text/plain": [
       "[{'value': {'mul': ['actuals', -1]}, 'name': 'actuals'},\n",
       " {'value': {'mul': ['budget', -1]}, 'name': 'budget'},\n",
       " {'value': {'substring': ['_name_', 2, 2]}, 'name': 'name'},\n",
       " {'value': {'cast': ['name', 'int']}, 'name': 'monno'}]"
      ]
     },
     "execution_count": 171,
     "metadata": {},
     "output_type": "execute_result"
    }
   ],
   "source": [
    "query_dict = parse(query.lower())\n",
    "query_dict['select']"
   ]
  },
  {
   "cell_type": "code",
   "execution_count": 168,
   "metadata": {},
   "outputs": [],
   "source": [
    "def intermediate_select_dict(select_list):\n",
    "    column_list = []\n",
    "    for column_dict in select_list:\n",
    "        if column_dict==\"*\":\n",
    "            pass\n",
    "        elif type(column_dict['value'])== str:\n",
    "            if '.' in column_dict['value']:\n",
    "                column_value = column_dict['value'].split('.')[1]\n",
    "                column_table = column_dict['value'].split('.')[0]\n",
    "                try:\n",
    "                    alias=column_dict['name']\n",
    "                except:\n",
    "                    alias=\"\"\n",
    "                collsttmp={\"base_col\":column_value,\"udf\":\"\",\"Alias\":alias}\n",
    "                column_list.append(collsttmp)\n",
    "            else:\n",
    "                column_value = column_dict['value']\n",
    "                column_table=\"\"\n",
    "                try:\n",
    "                    alias=column_dict['name']\n",
    "                except:\n",
    "                    alias=\"\"\n",
    "                collsttmp={\"base_col\":column_value,\"udf\":\"\",\"Alias\":alias}\n",
    "                column_list.append(collsttmp)\n",
    "            \n",
    "            \n",
    "        elif type(column_dict['value'])== dict:\n",
    "            if '.' in column_dict['value']:\n",
    "                column_value = column_dict['value'].split('.')[1]\n",
    "                column_table = column_dict['value'].split('.')[0]\n",
    "                try:\n",
    "                    alias=column_dict['name']\n",
    "                except:\n",
    "                    alias=\"\"\n",
    "                colsttmp={\"base_col\":column_value, \"Table\":column_table,\"Alias\":alias}\n",
    "                column_list.append(colsttmp)\n",
    "            else:\n",
    "                column_value=column_dict['value']\n",
    "                final_col=[]\n",
    "                for k,v in column_dict['value'].items():\n",
    "                    if k==\"case\":\n",
    "                        pass\n",
    "                    else:\n",
    "                        udf=k\n",
    "                        cols=v\n",
    "                        if type(cols)==str:\n",
    "                            if '.' in cols:\n",
    "                                col_name =cols.split('.')\n",
    "                                final_col.append(col_name[1])\n",
    "                            else:\n",
    "                                final_col.append(cols)\n",
    "                        elif type(cols)==dict:\n",
    "                            for k,v in cols.items(): ###########needs to be coded\n",
    "                                udf=udf+\",\"+k\n",
    "                                cols=v\n",
    "                                for i in cols:\n",
    "                                    final_col.append(i)\n",
    "                                \n",
    "                        else:\n",
    "                            for i in cols:\n",
    "                                if type(i)==str:\n",
    "                                    if '.' in i:\n",
    "                                        col_name= i.split('.')[1]\n",
    "                                        final_col.append(col_name)\n",
    "                                    else:\n",
    "                                        final_col.append(i)\n",
    "                        \n",
    "                                elif type(i)==int:\n",
    "                                    final_col.append(i)\n",
    "                    \n",
    "                                elif type(i)==dict: ## here adjustments needs to be done\n",
    "                                    new_dict=i\n",
    "                                    for k,v in new_dict.items():\n",
    "                                        extra_udf=k\n",
    "                                        udf=udf+\",\"+extra_udf\n",
    "                                        cols=v\n",
    "                                        if type(cols)==list:  ## for list\n",
    "                                            for i in cols:\n",
    "                                                if '.' in i:\n",
    "                                                    part1=i.split('.')[0] \n",
    "                                                    part2=i.split('.')[1]\n",
    "                                                    final_col.append(part2)\n",
    "                                                else:\n",
    "                                                    final_col.append(i)\n",
    "                                        elif type(cols)==str:  ## for str\n",
    "                                            if '.' in cols:\n",
    "                                                part1=cols.split('.')[0] \n",
    "                                                part2=cols.split('.')[1]\n",
    "                                                final_col.append(part2)\n",
    "                                            else:\n",
    "                                                final_col.append(cols)\n",
    "                                        elif type(cols)==dict:  ## for dict\n",
    "                                            for k,v in cols.items():\n",
    "                                                third_udf=k\n",
    "                                                udf =udf+\",\"+third_udf\n",
    "                                                cols=v\n",
    "                                                for i in cols:\n",
    "                                                    if '.' in i:\n",
    "                                                        part1=i.split('.')[0] \n",
    "                                                        part2=i.split('.')[1]\n",
    "                                                        final_col.append(part2)\n",
    "                                                    else:\n",
    "                                                        final_col.append(i)\n",
    "                                        else:\n",
    "                                            pass\n",
    "                                            \n",
    "                                else:\n",
    "                                    pass\n",
    "                    try:\n",
    "                        alias=column_dict['name']\n",
    "                    except:\n",
    "                        alias=\"\"\n",
    "                    colltmp={\"base_col\":final_col, \"udf\":udf,\"Alias\":alias}\n",
    "                    column_list.append(colltmp)\n",
    "    return column_list"
   ]
  },
  {
   "cell_type": "code",
   "execution_count": 169,
   "metadata": {},
   "outputs": [
    {
     "data": {
      "text/plain": [
       "[{'base_col': ['actuals', -1], 'udf': 'mul', 'Alias': 'actuals'},\n",
       " {'base_col': ['budget', -1], 'udf': 'mul', 'Alias': 'budget'},\n",
       " {'base_col': ['_name_', 2, 2], 'udf': 'substring', 'Alias': 'name'},\n",
       " {'base_col': ['name', 'int'], 'udf': 'cast', 'Alias': 'monno'},\n",
       " {'base_col': [{'concat': [{'concat': [{'concat': [{'concat': [{'concat': ['timeframe',\n",
       "             {'literal': '_'}]},\n",
       "           'esflag']},\n",
       "         {'literal': '_'}]},\n",
       "       'rmpool']},\n",
       "     {'literal': '_dem_'}]},\n",
       "   'yr_lbl'],\n",
       "  'udf': 'compress,concat',\n",
       "  'Alias': 'idvar'}]"
      ]
     },
     "execution_count": 169,
     "metadata": {},
     "output_type": "execute_result"
    }
   ],
   "source": [
    "intermediate_select_dict(query_dict['select'])"
   ]
  },
  {
   "cell_type": "code",
   "execution_count": null,
   "metadata": {},
   "outputs": [],
   "source": [
    "query =\"\"\"select a.marsha,\n",
    "( L3_ES_GR_FW_rn/L3_ES_GR_FW_rn_ly) - 1 AS Es_GR_RN_Chg_L3 , \n",
    "( MN_ES_GR_FW_rn/MN_ES_GR_FW_rn_ly) - 1 AS Es_GR_RN_Chg_MN ,\n",
    "L3_ES_GR_FW_rn / ( L3_ES_TO_WD_rn+L3_ES_TO_WE_rn) AS Es \n",
    "from azeta\"\"\""
   ]
  },
  {
   "cell_type": "code",
   "execution_count": null,
   "metadata": {},
   "outputs": [],
   "source": []
  },
  {
   "cell_type": "code",
   "execution_count": null,
   "metadata": {},
   "outputs": [],
   "source": []
  }
 ],
 "metadata": {
  "kernelspec": {
   "display_name": "Python 3",
   "language": "python",
   "name": "python3"
  },
  "language_info": {
   "codemirror_mode": {
    "name": "ipython",
    "version": 3
   },
   "file_extension": ".py",
   "mimetype": "text/x-python",
   "name": "python",
   "nbconvert_exporter": "python",
   "pygments_lexer": "ipython3",
   "version": "3.7.4"
  }
 },
 "nbformat": 4,
 "nbformat_minor": 2
}
