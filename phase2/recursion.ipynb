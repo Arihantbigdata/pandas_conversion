{
 "cells": [
  {
   "cell_type": "code",
   "execution_count": 13,
   "metadata": {},
   "outputs": [],
   "source": [
    "from moz_sql_parser import parse\n"
   ]
  },
  {
   "cell_type": "code",
   "execution_count": 2,
   "metadata": {},
   "outputs": [
    {
     "name": "stdout",
     "output_type": "stream",
     "text": [
      "\n",
      "\n",
      "Recursion Example Results\n",
      "1\n",
      "3\n",
      "6\n",
      "10\n",
      "15\n",
      "21\n"
     ]
    },
    {
     "data": {
      "text/plain": [
       "21"
      ]
     },
     "execution_count": 2,
     "metadata": {},
     "output_type": "execute_result"
    }
   ],
   "source": [
    "## whats recursion\n",
    "\n",
    "def tri_recursion(k):\n",
    "    if(k > 0):\n",
    "        result = k + tri_recursion(k - 1)\n",
    "        print(result)\n",
    "    else:\n",
    "        result = 0\n",
    "    return result\n",
    "\n",
    "print(\"\\n\\nRecursion Example Results\")\n",
    "tri_recursion(6)\n"
   ]
  },
  {
   "cell_type": "code",
   "execution_count": 5,
   "metadata": {},
   "outputs": [],
   "source": [
    "def fact(a):\n",
    "    if a==0:\n",
    "        return 1\n",
    "    a1= a*fact(a-1)\n",
    "    return a1\n",
    "        "
   ]
  },
  {
   "cell_type": "code",
   "execution_count": 6,
   "metadata": {},
   "outputs": [
    {
     "data": {
      "text/plain": [
       "6"
      ]
     },
     "execution_count": 6,
     "metadata": {},
     "output_type": "execute_result"
    }
   ],
   "source": [
    "fact(3)"
   ]
  },
  {
   "cell_type": "code",
   "execution_count": 14,
   "metadata": {},
   "outputs": [],
   "source": [
    "query = \"\"\"select marsha, \n",
    "    coalesce( SUM( crossover_rms*def_gadr),0) AS CO_Rev_Goal,\n",
    "    coalesce( SUM( crossover_rms),0) AS CO_RN_Goal,  \n",
    "    SUM( def_rms) AS Def_OTB, \n",
    "    SUM( def_rms*def_gadr) AS Def_Rev, \n",
    "    SUM( cid_rms) AS Target, SUM( avg_rms) AS Avg_Bkd \n",
    "    FROM AW_TGT_BUS_DBO.OY_ANNUALCROSSOVER WHERE stay_year > curyr AND ASOF_YRMO=CURYRPD GROUP BY marsha\"\"\""
   ]
  },
  {
   "cell_type": "code",
   "execution_count": 15,
   "metadata": {},
   "outputs": [],
   "source": [
    "query1 = parse(query.lower())"
   ]
  },
  {
   "cell_type": "code",
   "execution_count": 17,
   "metadata": {},
   "outputs": [
    {
     "data": {
      "text/plain": [
       "[{'value': 'marsha'},\n",
       " {'value': {'coalesce': [{'sum': {'mul': ['crossover_rms', 'def_gadr']}}, 0]},\n",
       "  'name': 'co_rev_goal'},\n",
       " {'value': {'coalesce': [{'sum': 'crossover_rms'}, 0]}, 'name': 'co_rn_goal'},\n",
       " {'value': {'sum': 'def_rms'}, 'name': 'def_otb'},\n",
       " {'value': {'sum': {'mul': ['def_rms', 'def_gadr']}}, 'name': 'def_rev'},\n",
       " {'value': {'sum': 'cid_rms'}, 'name': 'target'},\n",
       " {'value': {'sum': 'avg_rms'}, 'name': 'avg_bkd'}]"
      ]
     },
     "execution_count": 17,
     "metadata": {},
     "output_type": "execute_result"
    }
   ],
   "source": [
    "a=selectCols=query1['select']\n",
    "a"
   ]
  },
  {
   "cell_type": "code",
   "execution_count": 20,
   "metadata": {},
   "outputs": [],
   "source": [
    "def alpha(ds):\n",
    "    for d in ds :\n",
    "        if type(d['value'])==dict:\n",
    "            print(d['value'])"
   ]
  },
  {
   "cell_type": "code",
   "execution_count": 21,
   "metadata": {},
   "outputs": [
    {
     "name": "stdout",
     "output_type": "stream",
     "text": [
      "{'coalesce': [{'sum': {'mul': ['crossover_rms', 'def_gadr']}}, 0]}\n",
      "{'coalesce': [{'sum': 'crossover_rms'}, 0]}\n",
      "{'sum': 'def_rms'}\n",
      "{'sum': {'mul': ['def_rms', 'def_gadr']}}\n",
      "{'sum': 'cid_rms'}\n",
      "{'sum': 'avg_rms'}\n"
     ]
    }
   ],
   "source": [
    "alpha(a)"
   ]
  },
  {
   "cell_type": "code",
   "execution_count": null,
   "metadata": {},
   "outputs": [],
   "source": []
  }
 ],
 "metadata": {
  "kernelspec": {
   "display_name": "Python 3",
   "language": "python",
   "name": "python3"
  },
  "language_info": {
   "codemirror_mode": {
    "name": "ipython",
    "version": 3
   },
   "file_extension": ".py",
   "mimetype": "text/x-python",
   "name": "python",
   "nbconvert_exporter": "python",
   "pygments_lexer": "ipython3",
   "version": "3.7.4"
  }
 },
 "nbformat": 4,
 "nbformat_minor": 2
}
